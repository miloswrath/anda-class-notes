{
 "cells": [
  {
   "cell_type": "code",
   "execution_count": null,
   "metadata": {
    "vscode": {
     "languageId": "plaintext"
    }
   },
   "outputs": [],
   "source": [
    "\n",
    "# SCRIPT NOTES FROM LECTURE 3\n",
    "\n",
    "import numpy as np\n",
    "import pandas as pd\n",
    "import os\n",
    "\n",
    "# array size = 100 randint 0 < x < 800\n",
    "ar = np.random.randint(0,801,size=(100))\n",
    "\n",
    "#array min and max\n",
    "ar.min()\n",
    "ar.max()\n",
    "\n",
    "#reshape to 4, 25\n",
    "ar = ar.reshape((25,4))\n",
    "\n",
    "# Compute sum of vals in column one (or second column)\n",
    "ar[:, 1].sum()\n",
    "\n",
    "# add 1000 to each value in column 15\n",
    "ar[15] = ar[15]+1000\n",
    "\n",
    "# find max of column 2\n",
    "ar[:, 2].max()\n",
    "\n",
    "# make a new columns with the sum of columns 1 and 2\n",
    "new_column = ar[:,1]+ar[:,2]\n",
    "ar = np.column_stack((ar, new_column))\n",
    "\n",
    "# Print mean of new column\n",
    "ar[:,-1].mean()\n",
    "\n",
    "# assign less than 400 w -1\n",
    "ar[ar < 400] = -1\n",
    "\n",
    "# slice off first row\n",
    "ar = ar[1:, :]\n",
    "\n",
    "# slice off first two columns\n",
    "ar = ar[:, 2:]\n",
    "\n",
    "# only keep > 500\n",
    "ar[ar > 500]\n",
    "\n",
    "\n",
    "\n",
    "\n",
    "\n",
    "\n",
    "\n",
    "\n",
    "\n",
    "\n",
    "\n",
    "\n",
    "\n",
    "\n",
    "\n",
    "\n",
    "\n"
   ]
  }
 ],
 "metadata": {
  "language_info": {
   "name": "python"
  }
 },
 "nbformat": 4,
 "nbformat_minor": 2
}
